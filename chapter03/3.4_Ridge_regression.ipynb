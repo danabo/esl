{
 "cells": [
  {
   "cell_type": "code",
   "execution_count": 1,
   "metadata": {},
   "outputs": [],
   "source": [
    "import csv\n",
    "import numpy as np\n",
    "inv = np.linalg.inv"
   ]
  },
  {
   "cell_type": "code",
   "execution_count": 2,
   "metadata": {},
   "outputs": [],
   "source": [
    "def prepend_1(x):\n",
    "  # prepend 1 to every row in x\n",
    "  return np.concatenate((np.ones((x.shape[0], 1)), x), axis=1)\n",
    "\n",
    "# Exact regression\n",
    "def solve_regression(x, y):\n",
    "  w = inv(x.T @ x)\n",
    "  return w @ x.T @ y\n",
    "\n",
    "# Exact ridge regression\n",
    "def solve_ridge(x, y, l):\n",
    "  w = inv(x.T @ x + l*np.identity(x.shape[1]))\n",
    "  return w @ x.T @ y"
   ]
  },
  {
   "cell_type": "code",
   "execution_count": 4,
   "metadata": {},
   "outputs": [
    {
     "name": "stdout",
     "output_type": "stream",
     "text": [
      "Beta_ridge\n",
      " [[ 8.68493816e-02]\n",
      " [ 3.56194200e-02]\n",
      " [-1.72941122e+00]\n",
      " [-1.74230009e-02]\n",
      " [ 1.49995133e-03]\n",
      " [-1.51712525e+00]\n",
      " [ 7.18651432e-03]\n",
      " [-1.02196415e-03]\n",
      " [-4.57011602e-01]\n",
      " [ 7.89902941e-01]\n",
      " [ 9.74775134e-01]\n",
      " [ 3.36553134e-01]] \n",
      "\n",
      "Variances of principal components\n",
      " [2.46934910e+04 1.51765773e+02 2.22283944e+01 1.58534056e+01\n",
      " 6.50798516e-01 6.76585895e-02 1.48978637e-02 1.03797213e-02\n",
      " 8.82704848e-03 1.49544281e-03 4.54683392e-04 8.97424994e-08] \n",
      "\n",
      "Effective degrees of freedom\n",
      "lambda    df(lambda)\n",
      "0         12.0\n",
      "1         9.64317361577285\n",
      "2         9.116462475809234\n",
      "3         8.771417226556155\n",
      "4         8.510152874401195\n",
      "5         8.298594646653447\n",
      "6         8.1206077682837\n",
      "7         7.96711540041211\n",
      "8         7.8324171148702515\n",
      "9         7.712653300184957\n"
     ]
    }
   ],
   "source": [
    "with open('../datasets/winequality/winequality-white.csv') as f:\n",
    "  reader = csv.reader(f, delimiter=';')\n",
    "  header = next(reader)\n",
    "  body = np.asarray(list(reader)).astype(np.float32)\n",
    "x = prepend_1(body[:, :-1])\n",
    "y = body[:, -1:]\n",
    "N = 1000  # x.shape[0] // 2\n",
    "train = (x[:N], y[:N])\n",
    "test = (x[N:], y[N:])\n",
    "\n",
    "lmbda = 0.1\n",
    "beta_ridge = solve_ridge(*train, lmbda)\n",
    "print('Beta_ridge\\n', beta_ridge, '\\n')\n",
    "\n",
    "x, y = train\n",
    "U, d, V = np.linalg.svd(x, full_matrices=False)\n",
    "V = V.T\n",
    "assert np.allclose(\n",
    "  x,\n",
    "  U @ np.diag(d) @ V.T)\n",
    "\n",
    "assert np.allclose(\n",
    "  U @ U.T @ y,\n",
    "  x @ inv(x.T @ x) @ x.T @ y)\n",
    "\n",
    "assert np.allclose(\n",
    "  U @ (np.diag(d**2 / (lmbda + d**2))) @ U.T @ y,\n",
    "  x @ beta_ridge)\n",
    "\n",
    "assert np.allclose(\n",
    "  x.T @ x,\n",
    "  V @ np.diag(d*d) @ V.T)\n",
    "\n",
    "print('Variances of principal components\\n', d**2 / x.shape[0], '\\n')\n",
    "\n",
    "\n",
    "df = lambda l: (d**2 / (l + d**2)).sum()\n",
    "table = [('lambda', 'df(lambda)')] + [(l, df(l)) for l in range(10)]\n",
    "print('Effective degrees of freedom')\n",
    "for row in table:\n",
    "  print('{:10}{}'.format(*map(str, row)))\n"
   ]
  },
  {
   "cell_type": "code",
   "execution_count": null,
   "metadata": {},
   "outputs": [],
   "source": []
  }
 ],
 "metadata": {
  "kernelspec": {
   "display_name": "Python 3",
   "language": "python",
   "name": "python3"
  },
  "language_info": {
   "codemirror_mode": {
    "name": "ipython",
    "version": 3
   },
   "file_extension": ".py",
   "mimetype": "text/x-python",
   "name": "python",
   "nbconvert_exporter": "python",
   "pygments_lexer": "ipython3",
   "version": "3.6.3"
  }
 },
 "nbformat": 4,
 "nbformat_minor": 2
}
