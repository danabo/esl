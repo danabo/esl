{
 "cells": [
  {
   "cell_type": "markdown",
   "metadata": {},
   "source": [
    "# Forward stagewise selection\n",
    "\n",
    "As described in the [Least Angle Regression](http://statweb.stanford.edu/~tibs/ftp/lars.pdf) paper. This is a precursor to the LAR algorithm."
   ]
  },
  {
   "cell_type": "code",
   "execution_count": 79,
   "metadata": {},
   "outputs": [],
   "source": [
    "import csv\n",
    "import numpy as np\n",
    "norm = np.linalg.norm\n",
    "inv = np.linalg.inv"
   ]
  },
  {
   "cell_type": "code",
   "execution_count": 80,
   "metadata": {},
   "outputs": [],
   "source": [
    "def normalize(v): return v / norm(v, axis=0)\n",
    "\n",
    "def dot(a, b):\n",
    "  # Returns scalar\n",
    "  return np.dot(a.T, b)[0, 0]\n",
    "\n",
    "def angle(a, b):\n",
    "  # https://stackoverflow.com/a/13849249\n",
    "  return np.arccos(np.clip(dot(a/norm(a), b/norm(b)), -1.0, 1.0))\n",
    "\n",
    "def single_variate_regression(x, y):\n",
    "  # Assumes x and y are column vectors\n",
    "  # Returns beta\n",
    "  return dot(x, y) / dot(x, x)\n",
    "\n",
    "def multi_variate_regression(x, y):\n",
    "  return inv(x.T @ x) @ x.T @ y\n",
    "\n",
    "def compute_residual(x, z_basis):\n",
    "  gammas = [single_variate_regression(z, x) for z in z_basis]\n",
    "  return x - sum([gamma * z for gamma, z in zip(gammas, z_basis)]), gammas\n",
    "\n",
    "def prepend_1(x):\n",
    "  # prepend 1 to every row in x\n",
    "  return np.concatenate((np.ones((x.shape[0], 1)), x), axis=1)\n",
    "\n",
    "def standardize(x):\n",
    "  return normalize(x - x.mean(axis=0))"
   ]
  },
  {
   "cell_type": "code",
   "execution_count": 152,
   "metadata": {},
   "outputs": [
    {
     "name": "stdout",
     "output_type": "stream",
     "text": [
      "L1(full beta_hat) = 72.84742721984625\n",
      "Turned on beta_11\n",
      "L1(beta_hat) = 0.001\n",
      "Test mean squared error = 0.6642038626070994\n",
      "Turned on beta_2\n",
      "Turned on beta_9\n",
      "L1(beta_hat) = 10.001000000000655\n",
      "Test mean squared error = 0.6197896138130714\n",
      "Turned on beta_10\n",
      "Turned on beta_6\n",
      "Turned on beta_5\n",
      "L1(beta_hat) = 20.000999999999564\n",
      "Test mean squared error = 0.6062615677045224\n",
      "Turned on beta_8\n",
      "Turned on beta_1\n",
      "Turned on beta_7\n",
      "Turned on beta_4\n",
      "L1(beta_hat) = 30.00099999999891\n",
      "Test mean squared error = 0.6003658653026395\n",
      "L1(beta_hat) = 37.50099999999944\n",
      "Test mean squared error = 0.5977200791579266\n",
      "L1(beta_hat) = 43.87900000000088\n",
      "Test mean squared error = 0.5965069368359485\n",
      "Turned on beta_3\n",
      "L1(beta_hat) = 50.1729999999986\n",
      "Test mean squared error = 0.5955025219155503\n",
      "L1(beta_hat) = 56.410999999996235\n",
      "Test mean squared error = 0.5946842408028592\n",
      "L1(beta_hat) = 62.555000000000085\n",
      "Test mean squared error = 0.5941169350109907\n",
      "L1(beta_hat) = 68.58300000000433\n",
      "Test mean squared error = 0.5938192191304464\n"
     ]
    }
   ],
   "source": [
    "with open('../datasets/winequality/winequality-white.csv') as f:\n",
    "  reader = csv.reader(f, delimiter=';')\n",
    "  header = next(reader)\n",
    "  body = np.asarray([[float(value) for value in row] for row in reader])\n",
    "x = body[:, :-1]\n",
    "y = body[:, -1:]\n",
    "N = 1000\n",
    "train = (x[:N], y[:N])\n",
    "test = (x[N:], y[N:])\n",
    "\n",
    "# Compute stagewise selection\n",
    "epsilon = 1e-3  # step size\n",
    "x = prepend_1(standardize(train[0]))  # Center and normalize predictors\n",
    "y_mu = train[1].mean()\n",
    "y = train[1] - y_mu  # Center response\n",
    "full_beta_hat = multi_variate_regression(x, y).reshape(-1)\n",
    "l1_full_beta_hat = np.abs(full_beta_hat).sum()\n",
    "print('L1(full beta_hat) =', l1_full_beta_hat)\n",
    "beta_hat = np.zeros([x.shape[1]])\n",
    "turned_on = np.zeros([x.shape[1]])\n",
    "iterations = 0\n",
    "while np.abs(l1_full_beta_hat - np.abs(beta_hat).sum()) > 0.2:\n",
    "  c = x.T @ (y - x @ beta_hat.reshape(-1, 1))  # Correlation is the dot product\n",
    "  j = np.argmax(np.abs(c))  # Maximum correlation, minimum angle\n",
    "  if turned_on[j] == 0:\n",
    "    print('Turned on beta_{}'.format(j))\n",
    "    turned_on[j] = 1\n",
    "  beta_hat[j] += epsilon * np.sign(c[j])\n",
    "  if iterations % 10000 == 0:\n",
    "    # Eval on test set\n",
    "    y_hat = y_mu + prepend_1(standardize(test[0])) @ beta_hat\n",
    "    error = test[1].reshape(-1) - y_hat\n",
    "    mse = np.sqrt(error**2).mean()\n",
    "    print('L1(beta_hat) =', np.abs(beta_hat).sum())\n",
    "    print('Test mean squared error =', mse)\n",
    "  iterations += 1"
   ]
  },
  {
   "cell_type": "code",
   "execution_count": 153,
   "metadata": {},
   "outputs": [
    {
     "data": {
      "text/plain": [
       "array([ 0.  , -0.02, -0.  , -0.  , -0.05, -0.  ,  0.  , -0.01,  0.08,\n",
       "       -0.01, -0.  ,  0.04])"
      ]
     },
     "execution_count": 153,
     "metadata": {},
     "output_type": "execute_result"
    }
   ],
   "source": [
    "np.round(beta_hat - full_beta_hat, 2)"
   ]
  },
  {
   "cell_type": "code",
   "execution_count": 154,
   "metadata": {},
   "outputs": [
    {
     "name": "stdout",
     "output_type": "stream",
     "text": [
      "Full regression MSE = 0.5937635701821794\n"
     ]
    }
   ],
   "source": [
    "y_hat = y_mu + prepend_1(standardize(test[0])) @ full_beta_hat\n",
    "error = test[1].reshape(-1) - y_hat\n",
    "mse = np.sqrt(error**2).mean()\n",
    "print('Full regression MSE =', mse)"
   ]
  }
 ],
 "metadata": {
  "kernelspec": {
   "display_name": "Python 3",
   "language": "python",
   "name": "python3"
  },
  "language_info": {
   "codemirror_mode": {
    "name": "ipython",
    "version": 3
   },
   "file_extension": ".py",
   "mimetype": "text/x-python",
   "name": "python",
   "nbconvert_exporter": "python",
   "pygments_lexer": "ipython3",
   "version": "3.6.3"
  }
 },
 "nbformat": 4,
 "nbformat_minor": 2
}
