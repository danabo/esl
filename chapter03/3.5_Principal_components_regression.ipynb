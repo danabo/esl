{
 "cells": [
  {
   "cell_type": "markdown",
   "metadata": {},
   "source": [
    "# Principal Components Regression\n",
    "\n",
    "Similar to forward stepwise, but use principal components instead of QR decomposition."
   ]
  },
  {
   "cell_type": "code",
   "execution_count": 2,
   "metadata": {},
   "outputs": [],
   "source": [
    "import csv\n",
    "import numpy as np\n",
    "norm = np.linalg.norm"
   ]
  },
  {
   "cell_type": "code",
   "execution_count": 3,
   "metadata": {},
   "outputs": [],
   "source": [
    "def dot(a, b):\n",
    "  return (a*b).sum(axis=-2)\n",
    "\n",
    "def angle(a, b):\n",
    "  # https://stackoverflow.com/a/13849249\n",
    "  return np.arccos(np.clip(dot(a/norm(a), b/norm(b)), -1.0, 1.0))\n",
    "\n",
    "def single_variate_regression(x, y):\n",
    "  # Assumes x and y are column vectors\n",
    "  # Returns beta\n",
    "  return dot(x, y) / dot(x, x)\n",
    "\n",
    "def compute_residual(x, z_basis):\n",
    "  gammas = [single_variate_regression(z, x) for z in z_basis]\n",
    "  return x - sum([gamma * z for gamma, z in zip(gammas, z_basis)]), gammas\n",
    "\n",
    "def prepend_1(x):\n",
    "  # prepend 1 to every row in x\n",
    "  return np.concatenate((np.ones((x.shape[0], 1)), x), axis=1)"
   ]
  },
  {
   "cell_type": "code",
   "execution_count": 4,
   "metadata": {},
   "outputs": [
    {
     "name": "stdout",
     "output_type": "stream",
     "text": [
      "train mse 4.280718170208161\n",
      "train mse 4.277988098751895\n",
      "train mse 2.8932457608473023\n",
      "train mse 0.7255696031462348\n",
      "train mse 0.7062085599999718\n",
      "train mse 0.6853729143027781\n",
      "train mse 0.6738583921309597\n",
      "train mse 0.6611952239932581\n",
      "train mse 0.6396902616849713\n",
      "train mse 0.6392377320918076\n"
     ]
    }
   ],
   "source": [
    "with open('../datasets/winequality/winequality-white.csv') as f:\n",
    "  reader = csv.reader(f, delimiter=';')\n",
    "  header = next(reader)\n",
    "  body = np.asarray([[float(value) for value in row] for row in reader])\n",
    "x = body[:, :-1]\n",
    "y = body[:, -1:]\n",
    "N = 1000\n",
    "train = (x[:N], y[:N])\n",
    "test = (x[N:], y[N:])\n",
    "\n",
    "def subset_regression(k):\n",
    "  assert k >= 1\n",
    "  \n",
    "  x, y = train\n",
    "  x = prepend_1(x)\n",
    "  \n",
    "  # Principal component decomposition\n",
    "  U, d, V = np.linalg.svd(x, full_matrices=False)\n",
    "  V = V.T\n",
    "  ordering = np.argsort(-d)  # Highest to lowest variance\n",
    "  idxs = ordering[:k]\n",
    "  y_hat = U[:, idxs] @ U[:, idxs].T @ y\n",
    "\n",
    "  # Compute MSE\n",
    "  train_mse = np.power(y - y_hat, 2).mean()\n",
    "  print('train mse', train_mse)\n",
    "\n",
    "# Forward stepwise subset selection.\n",
    "for k in range(1, x.shape[1]):\n",
    "  # Compute regression with different subset sizes.\n",
    "  # Take best fitting features in each subset.\n",
    "  subset_regression(k)"
   ]
  }
 ],
 "metadata": {
  "kernelspec": {
   "display_name": "Python 3",
   "language": "python",
   "name": "python3"
  },
  "language_info": {
   "codemirror_mode": {
    "name": "ipython",
    "version": 3
   },
   "file_extension": ".py",
   "mimetype": "text/x-python",
   "name": "python",
   "nbconvert_exporter": "python",
   "pygments_lexer": "ipython3",
   "version": "3.7.0"
  }
 },
 "nbformat": 4,
 "nbformat_minor": 2
}
